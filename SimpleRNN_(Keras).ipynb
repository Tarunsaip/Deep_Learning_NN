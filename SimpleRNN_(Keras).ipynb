{
  "nbformat": 4,
  "nbformat_minor": 0,
  "metadata": {
    "accelerator": "GPU",
    "colab": {
      "name": "SimpleRNN (Keras).ipynb",
      "provenance": [],
      "collapsed_sections": [],
      "include_colab_link": true
    },
    "kernelspec": {
      "display_name": "Python 3",
      "language": "python",
      "name": "python3"
    },
    "language_info": {
      "codemirror_mode": {
        "name": "ipython",
        "version": 3
      },
      "file_extension": ".py",
      "mimetype": "text/x-python",
      "name": "python",
      "nbconvert_exporter": "python",
      "pygments_lexer": "ipython3",
      "version": "3.6.7"
    }
  },
  "cells": [
    {
      "cell_type": "markdown",
      "metadata": {
        "id": "view-in-github",
        "colab_type": "text"
      },
      "source": [
        "<a href=\"https://colab.research.google.com/github/Tarunsaip/Deep_Learning_NN/blob/master/SimpleRNN_(Keras).ipynb\" target=\"_parent\"><img src=\"https://colab.research.google.com/assets/colab-badge.svg\" alt=\"Open In Colab\"/></a>"
      ]
    },
    {
      "cell_type": "code",
      "metadata": {
        "id": "IMbcMnGSRaiu",
        "colab_type": "code",
        "colab": {}
      },
      "source": [
        "import numpy as np\n",
        "\n",
        "from tensorflow.keras.models import Sequential\n",
        "from tensorflow.keras.layers import TimeDistributed, Dense, Dropout, SimpleRNN, RepeatVector\n",
        "from tensorflow.keras.callbacks import EarlyStopping, LambdaCallback\n",
        "\n",
        "from termcolor import colored"
      ],
      "execution_count": 0,
      "outputs": []
    },
    {
      "cell_type": "code",
      "metadata": {
        "colab_type": "code",
        "id": "hP-OyQrivBNl",
        "colab": {}
      },
      "source": [
        "all_chars = '0123456789+'"
      ],
      "execution_count": 0,
      "outputs": []
    },
    {
      "cell_type": "code",
      "metadata": {
        "id": "lyNGiUGKRajF",
        "colab_type": "code",
        "outputId": "1beb4bd6-4474-45c6-fc1d-e7d3443cf426",
        "colab": {
          "base_uri": "https://localhost:8080/",
          "height": 35
        }
      },
      "source": [
        "num_features = len(all_chars)\n",
        "\n",
        "char_to_index = dict((c, i) for i, c in enumerate(all_chars))\n",
        "index_to_char = dict((i, c) for i, c in enumerate(all_chars))\n",
        "\n",
        "print('Number of features:', num_features)"
      ],
      "execution_count": 0,
      "outputs": [
        {
          "output_type": "stream",
          "text": [
            "Number of features: 11\n"
          ],
          "name": "stdout"
        }
      ]
    },
    {
      "cell_type": "code",
      "metadata": {
        "colab_type": "code",
        "id": "L2b1Xg9hvBNr",
        "outputId": "f3fe7183-d79f-4915-db47-2fb7a0eabe22",
        "colab": {
          "base_uri": "https://localhost:8080/",
          "height": 35
        }
      },
      "source": [
        "def generate_data():\n",
        "    first_num = np.random.randint(low=0,high=100)\n",
        "    second_num = np.random.randint(low=0,high=100)\n",
        "    example = str(first_num) + '+' + str(second_num)\n",
        "    label = str(first_num+second_num)\n",
        "    return example, label\n",
        "\n",
        "generate_data()"
      ],
      "execution_count": 0,
      "outputs": [
        {
          "output_type": "execute_result",
          "data": {
            "text/plain": [
              "('64+35', '99')"
            ]
          },
          "metadata": {
            "tags": []
          },
          "execution_count": 5
        }
      ]
    },
    {
      "cell_type": "code",
      "metadata": {
        "colab_type": "code",
        "id": "iZKl0LtdvBNy",
        "outputId": "95f80416-311b-496c-b000-32d05d9df27c",
        "colab": {
          "base_uri": "https://localhost:8080/",
          "height": 308
        }
      },
      "source": [
        "hidden_units = 128\n",
        "max_time_steps = 5\n",
        "\n",
        "model = Sequential([\n",
        "    SimpleRNN(hidden_units, input_shape=(None, num_features)),\n",
        "    RepeatVector(max_time_steps),\n",
        "    SimpleRNN(hidden_units, return_sequences=True),\n",
        "    TimeDistributed(Dense(num_features, activation='softmax'))\n",
        "])\n",
        "\n",
        "model.compile(loss='categorical_crossentropy', optimizer='adam', metrics=['accuracy'])\n",
        "model.summary()"
      ],
      "execution_count": 0,
      "outputs": [
        {
          "output_type": "stream",
          "text": [
            "Model: \"sequential\"\n",
            "_________________________________________________________________\n",
            "Layer (type)                 Output Shape              Param #   \n",
            "=================================================================\n",
            "simple_rnn (SimpleRNN)       (None, 128)               17920     \n",
            "_________________________________________________________________\n",
            "repeat_vector (RepeatVector) (None, 5, 128)            0         \n",
            "_________________________________________________________________\n",
            "simple_rnn_1 (SimpleRNN)     (None, 5, 128)            32896     \n",
            "_________________________________________________________________\n",
            "time_distributed (TimeDistri (None, 5, 11)             1419      \n",
            "=================================================================\n",
            "Total params: 52,235\n",
            "Trainable params: 52,235\n",
            "Non-trainable params: 0\n",
            "_________________________________________________________________\n"
          ],
          "name": "stdout"
        }
      ]
    },
    {
      "cell_type": "code",
      "metadata": {
        "colab_type": "code",
        "id": "Ci29YaA6vBN1",
        "outputId": "5b57ad2c-930d-4b06-df07-bee54f023bbd",
        "colab": {
          "base_uri": "https://localhost:8080/",
          "height": 53
        }
      },
      "source": [
        "def vectorize_example(example, label):\n",
        "    \n",
        "    x = np.zeros((max_time_steps, num_features))\n",
        "    y = np.zeros((max_time_steps, num_features))\n",
        "    \n",
        "    diff_x = max_time_steps - len(example)\n",
        "    diff_y = max_time_steps - len(label)\n",
        "    \n",
        "    for i, c in enumerate(example):\n",
        "        x[diff_x+i, char_to_index[c]] = 1\n",
        "    for i in range(diff_x):\n",
        "        x[i, char_to_index['0']] = 1\n",
        "    for i, c in enumerate(label):\n",
        "        y[diff_y+i, char_to_index[c]] = 1\n",
        "    for i in range(diff_y):\n",
        "        y[i, char_to_index['0']] = 1\n",
        "        \n",
        "    return x, y\n",
        "\n",
        "e, l = generate_data()\n",
        "print('Text Example and Label:', e, l)\n",
        "x, y = vectorize_example(e, l)\n",
        "print('Vectorized Example and Label Shapes:', x.shape, y.shape)"
      ],
      "execution_count": 0,
      "outputs": [
        {
          "output_type": "stream",
          "text": [
            "Text Example and Label: 74+54 128\n",
            "Vectorized Example and Label Shapes: (5, 11) (5, 11)\n"
          ],
          "name": "stdout"
        }
      ]
    },
    {
      "cell_type": "code",
      "metadata": {
        "colab_type": "code",
        "id": "_nARKq-bvBN9",
        "outputId": "89e79f3b-a5ba-4de0-ab46-b3b768ac7d17",
        "colab": {
          "base_uri": "https://localhost:8080/",
          "height": 35
        }
      },
      "source": [
        "def devectorize_example(example):\n",
        "    result = [index_to_char[np.argmax(vec)] for i, vec in enumerate(example)]\n",
        "    return ''.join(result)\n",
        "\n",
        "devectorize_example(x)"
      ],
      "execution_count": 0,
      "outputs": [
        {
          "output_type": "execute_result",
          "data": {
            "text/plain": [
              "'74+54'"
            ]
          },
          "metadata": {
            "tags": []
          },
          "execution_count": 8
        }
      ]
    },
    {
      "cell_type": "code",
      "metadata": {
        "colab_type": "code",
        "id": "KCGUxNwNvBOA",
        "outputId": "4e8d2015-f0e2-484c-bf09-e254ef241ef3",
        "colab": {
          "base_uri": "https://localhost:8080/",
          "height": 35
        }
      },
      "source": [
        "devectorize_example(y)"
      ],
      "execution_count": 0,
      "outputs": [
        {
          "output_type": "execute_result",
          "data": {
            "text/plain": [
              "'00128'"
            ]
          },
          "metadata": {
            "tags": []
          },
          "execution_count": 9
        }
      ]
    },
    {
      "cell_type": "code",
      "metadata": {
        "colab_type": "code",
        "id": "T5rdrhiVvBOI",
        "outputId": "a6249561-1f03-48cf-fea0-1b9205065d40",
        "colab": {
          "base_uri": "https://localhost:8080/",
          "height": 35
        }
      },
      "source": [
        "def create_dataset(num_examples=2000):\n",
        "\n",
        "    x = np.zeros((num_examples, max_time_steps, num_features))\n",
        "    y = np.zeros((num_examples, max_time_steps, num_features))\n",
        "\n",
        "    for i in range(num_examples):\n",
        "        e, l = generate_data()\n",
        "        e_v, l_v = vectorize_example(e, l)\n",
        "        x[i] = e_v\n",
        "        y[i] = l_v\n",
        "    \n",
        "    return x, y\n",
        "\n",
        "x, y = create_dataset()\n",
        "print(x.shape, y.shape)"
      ],
      "execution_count": 0,
      "outputs": [
        {
          "output_type": "stream",
          "text": [
            "(2000, 5, 11) (2000, 5, 11)\n"
          ],
          "name": "stdout"
        }
      ]
    },
    {
      "cell_type": "code",
      "metadata": {
        "colab_type": "code",
        "id": "RRwiuwcQvBOL",
        "outputId": "29746a9f-cca2-4e34-8306-dca1fd5e1d4c",
        "colab": {
          "base_uri": "https://localhost:8080/",
          "height": 35
        }
      },
      "source": [
        "devectorize_example(x[0])"
      ],
      "execution_count": 0,
      "outputs": [
        {
          "output_type": "execute_result",
          "data": {
            "text/plain": [
              "'91+65'"
            ]
          },
          "metadata": {
            "tags": []
          },
          "execution_count": 12
        }
      ]
    },
    {
      "cell_type": "code",
      "metadata": {
        "colab_type": "code",
        "id": "cRUvtd0IvBOO",
        "outputId": "a1b103d1-c610-4c64-a1b5-5409376d5354",
        "colab": {
          "base_uri": "https://localhost:8080/",
          "height": 35
        }
      },
      "source": [
        "devectorize_example(y[0])"
      ],
      "execution_count": 0,
      "outputs": [
        {
          "output_type": "execute_result",
          "data": {
            "text/plain": [
              "'00156'"
            ]
          },
          "metadata": {
            "tags": []
          },
          "execution_count": 13
        }
      ]
    },
    {
      "cell_type": "code",
      "metadata": {
        "colab_type": "code",
        "id": "S8HWRdiOvBOS",
        "outputId": "3c96e877-92ce-475b-fcf6-c7e20147ac96",
        "colab": {
          "base_uri": "https://localhost:8080/",
          "height": 35
        }
      },
      "source": [
        "l_cb = LambdaCallback()\n",
        "\n",
        "es_cb = EarlyStopping(monitor = 'val_loss', patience = 10)\n",
        "model.fit(x,y,epochs = 500,batch_size = 256,validation_split=0.2,verbose = False , callbacks = [es_cb,l_cb])\n",
        "\n"
      ],
      "execution_count": 0,
      "outputs": [
        {
          "output_type": "execute_result",
          "data": {
            "text/plain": [
              "<tensorflow.python.keras.callbacks.History at 0x7f0ebea02dd8>"
            ]
          },
          "metadata": {
            "tags": []
          },
          "execution_count": 20
        }
      ]
    },
    {
      "cell_type": "code",
      "metadata": {
        "colab_type": "code",
        "id": "tlNtu_9ZvBOY",
        "outputId": "8cff68c6-6ba4-4962-a91c-b9f510dfb3dc",
        "colab": {
          "base_uri": "https://localhost:8080/",
          "height": 199
        }
      },
      "source": [
        "x_test , y_test = create_dataset(10)\n",
        "preds = model.predict(x_test)\n",
        "for i, pred in enumerate(preds) :\n",
        "\ty = devectorize_example(y_test[i])\n",
        "\ty_hat = devectorize_example(pred)\n",
        "\tcol = 'green'\n",
        "\tif y!= y_hat:\n",
        "\t\tcol = 'red'\n",
        "\tout = 'Input : '+ devectorize_example(x_test[i])+ ' Out : '+y+' Pred: '+y_hat\n",
        "\tprint(colored(out,col))"
      ],
      "execution_count": 0,
      "outputs": [
        {
          "output_type": "stream",
          "text": [
            "\u001b[32mInput : 79+58 Out : 00137 Pred: 00137\u001b[0m\n",
            "\u001b[31mInput : 020+9 Out : 00029 Pred: 00032\u001b[0m\n",
            "\u001b[32mInput : 69+14 Out : 00083 Pred: 00083\u001b[0m\n",
            "\u001b[32mInput : 49+63 Out : 00112 Pred: 00112\u001b[0m\n",
            "\u001b[32mInput : 61+66 Out : 00127 Pred: 00127\u001b[0m\n",
            "\u001b[32mInput : 26+34 Out : 00060 Pred: 00060\u001b[0m\n",
            "\u001b[32mInput : 51+30 Out : 00081 Pred: 00081\u001b[0m\n",
            "\u001b[32mInput : 43+15 Out : 00058 Pred: 00058\u001b[0m\n",
            "\u001b[32mInput : 25+53 Out : 00078 Pred: 00078\u001b[0m\n",
            "\u001b[31mInput : 21+58 Out : 00079 Pred: 00089\u001b[0m\n"
          ],
          "name": "stdout"
        }
      ]
    }
  ]
}